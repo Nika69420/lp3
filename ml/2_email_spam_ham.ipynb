{
  "nbformat": 4,
  "nbformat_minor": 0,
  "metadata": {
    "colab": {
      "provenance": []
    },
    "kernelspec": {
      "name": "python3",
      "display_name": "Python 3"
    },
    "language_info": {
      "name": "python"
    }
  },
  "cells": [
    {
      "cell_type": "code",
      "execution_count": 2,
      "metadata": {
        "id": "x2P9ryVKVe4C"
      },
      "outputs": [],
      "source": [
        "import os\n",
        "import string\n",
        "from nltk.corpus import stopwords\n",
        "from sklearn.model_selection import train_test_split\n",
        "from sklearn.metrics import accuracy_score\n",
        "import numpy as np\n",
        "import pandas as pd\n",
        "import seaborn as sns\n",
        "import matplotlib.pyplot as plt"
      ]
    },
    {
      "cell_type": "code",
      "source": [
        "df = pd.read_csv('/content/spam_ham_dataset.csv')"
      ],
      "metadata": {
        "id": "ZbUcxB8EWKoP"
      },
      "execution_count": 6,
      "outputs": []
    },
    {
      "cell_type": "code",
      "source": [
        "df.head()\n",
        "\n",
        "df = df.drop(['Unnamed: 0'], axis=1)\n",
        "df.head()\n",
        "print('Total %s data email'% len(df))\n",
        "\n",
        "#total class memebers\n",
        "df['label'].value_counts()"
      ],
      "metadata": {
        "colab": {
          "base_uri": "https://localhost:8080/"
        },
        "id": "tdAsx-UWWTqh",
        "outputId": "8224d5d9-dae9-4c0a-840c-3e90660c9b4f"
      },
      "execution_count": 7,
      "outputs": [
        {
          "output_type": "stream",
          "name": "stdout",
          "text": [
            "Total 5171 data email\n"
          ]
        },
        {
          "output_type": "execute_result",
          "data": {
            "text/plain": [
              "ham     3672\n",
              "spam    1499\n",
              "Name: label, dtype: int64"
            ]
          },
          "metadata": {},
          "execution_count": 7
        }
      ]
    },
    {
      "cell_type": "code",
      "source": [
        "df_label = sns.countplot(data=df, x='label')\n",
        "plt.show()"
      ],
      "metadata": {
        "colab": {
          "base_uri": "https://localhost:8080/",
          "height": 449
        },
        "id": "M4803hmVZSKs",
        "outputId": "b9923865-39d5-42d5-f8be-25bd089fa91a"
      },
      "execution_count": 9,
      "outputs": [
        {
          "output_type": "display_data",
          "data": {
            "text/plain": [
              "<Figure size 640x480 with 1 Axes>"
            ],
            "image/png": "[encoded data removed]"
          },
          "metadata": {}
        }
      ]
    },
    {
      "cell_type": "code",
      "source": [
        "#data preprocessing\n",
        "#data text cleaning\n",
        "# punchuations\n",
        "punct = []\n",
        "for char in string.punctuation:\n",
        "    punct.append(char)\n",
        "\n",
        "    import re\n",
        "\n",
        "def cleaning(txt):\n",
        "    # case folding\n",
        "    text = txt.lower()\n",
        "\n",
        "    # remove multiple space, tabs, dan newlines\n",
        "    text = re.sub('\\s+',' ',text)\n",
        "    # remove links\n",
        "    text = text.replace(\"http://\", \" \").replace(\"https://\", \" \")\n",
        "    # remove special characters\n",
        "    text = text.encode('ascii', 'replace').decode('ascii')\n",
        "    text = ' '.join(re.sub(\"([@#][A-Za-z0-9]+)|(\\w+:\\/\\/\\S+)\",\" \", text).split())\n",
        "    # remove punctuation\n",
        "    text = ''.join([word for word in text if word not in punct])\n",
        "    #remove single character\n",
        "    text = re.sub(r\"\\b[a-zA-Z]\\b\", \"\", text)\n",
        "    #remove numbers\n",
        "    text = re.sub(r\"\\d+\", \"\", text)\n",
        "    #remove multiple spaces (again)\n",
        "    text = re.sub('\\s+',' ',text)\n",
        "    return text"
      ],
      "metadata": {
        "id": "JM7jGhL1ZWcr"
      },
      "execution_count": 10,
      "outputs": []
    },
    {
      "cell_type": "code",
      "source": [
        "# Import the necessary libraries\n",
        "import nltk\n",
        "nltk.download('stopwords')\n",
        "nltk.download('punkt')\n",
        "from nltk.corpus import stopwords\n",
        "from nltk.stem import WordNetLemmatizer\n",
        "import string\n",
        "\n",
        "# Function for cleaning text\n",
        "def cleaning(text):\n",
        "    # Tokenize the text\n",
        "    tokens = nltk.word_tokenize(text)\n",
        "    # Remove punctuation\n",
        "    table = str.maketrans('', '', string.punctuation)\n",
        "    stripped = [w.translate(table) for w in tokens]\n",
        "    # Remove remaining tokens that are not alphabetic\n",
        "    words = [word for word in stripped if word.isalpha()]\n",
        "    # Convert to lowercase\n",
        "    words = [word.lower() for word in words]\n",
        "    return ' '.join(words)\n",
        "\n",
        "# Apply the cleaning function to 'text' column\n",
        "df['text_cleaned'] = df['text'].apply(cleaning)\n",
        "\n",
        "# Remove stop words\n",
        "stop = set(stopwords.words('english'))\n",
        "df['text_cleaned'] = df['text_cleaned'].apply(lambda x: ' '.join([word for word in x.split() if word not in stop]))\n",
        "\n",
        "# Lemmatize the text\n",
        "lemmatizer = WordNetLemmatizer()\n",
        "df['text_cleaned'] = df['text_cleaned'].apply(lambda x: ' '.join([lemmatizer.lemmatize(word) for word in x.split()]))\n",
        "\n",
        "# Reorder the columns in the DataFrame\n",
        "df = df[['text', 'text_cleaned', 'label']]\n",
        "\n",
        "# Display the first few rows of the DataFrame\n",
        "print(df.head())\n",
        "\n",
        "# Compare the original text and the cleaned text\n",
        "print(df['text'][0])\n",
        "print(df['text_cleaned'][0])\n"
      ],
      "metadata": {
        "colab": {
          "base_uri": "https://localhost:8080/"
        },
        "id": "DUuqbokuZyl3",
        "outputId": "cec6da4b-e1f1-446a-dbc5-fc99d2de0e09"
      },
      "execution_count": 16,
      "outputs": [
        {
          "output_type": "stream",
          "name": "stderr",
          "text": [
            "[nltk_data] Downloading package stopwords to /root/nltk_data...\n",
            "[nltk_data]   Package stopwords is already up-to-date!\n",
            "[nltk_data] Downloading package punkt to /root/nltk_data...\n",
            "[nltk_data]   Package punkt is already up-to-date!\n"
          ]
        },
        {
          "output_type": "stream",
          "name": "stdout",
          "text": [
            "                                                text  \\\n",
            "0  Subject: enron methanol ; meter # : 988291\\r\\n...   \n",
            "1  Subject: hpl nom for january 9 , 2001\\r\\n( see...   \n",
            "2  Subject: neon retreat\\r\\nho ho ho , we ' re ar...   \n",
            "3  Subject: photoshop , windows , office . cheap ...   \n",
            "4  Subject: re : indian springs\\r\\nthis deal is t...   \n",
            "\n",
            "                                        text_cleaned label  \n",
            "0  subject enron methanol meter follow note gave ...   ham  \n",
            "1  subject hpl nom january see attached file hpln...   ham  \n",
            "2  subject neon retreat ho ho ho around wonderful...   ham  \n",
            "3  subject photoshop window office cheap main tre...  spam  \n",
            "4  subject indian spring deal book teco pvr reven...   ham  \n",
            "Subject: enron methanol ; meter # : 988291\r\n",
            "this is a follow up to the note i gave you on monday , 4 / 3 / 00 { preliminary\r\n",
            "flow data provided by daren } .\r\n",
            "please override pop ' s daily volume { presently zero } to reflect daily\r\n",
            "activity you can obtain from gas control .\r\n",
            "this change is needed asap for economics purposes .\n",
            "subject enron methanol meter follow note gave monday preliminary flow data provided daren please override pop daily volume presently zero reflect daily activity obtain gas control change needed asap economics purpose\n"
          ]
        }
      ]
    },
    {
      "cell_type": "code",
      "source": [
        "import nltk\n",
        "from nltk.corpus import wordnet\n",
        "from nltk.stem import WordNetLemmatizer\n",
        "from sklearn.model_selection import train_test_split\n",
        "from sklearn.feature_extraction.text import TfidfVectorizer\n",
        "from sklearn.neighbors import KNeighborsClassifier\n",
        "from sklearn.metrics import accuracy_score\n",
        "from time import time\n",
        "\n",
        "# Assuming you have defined the cleaning function and cleaned the data\n",
        "\n",
        "# Lemmatization function\n",
        "lemmatizer = WordNetLemmatizer()\n",
        "def get_wordnet_pos(word):\n",
        "    \"\"\"Map POS tag to first character lemmatize() accepts\"\"\"\n",
        "    tag = nltk.pos_tag([word])[0][1][0].upper()\n",
        "    tag_dict = {\"J\": wordnet.ADJ, \"N\": wordnet.NOUN, \"V\": wordnet.VERB, \"R\": wordnet.ADV}\n",
        "    return tag_dict.get(tag, wordnet.NOUN)\n",
        "\n",
        "def do_lemma(string):\n",
        "    lemmatized = ' '.join([lemmatizer.lemmatize(word, get_wordnet_pos(word)) for word in nltk.word_tokenize(string)])\n",
        "    return lemmatized\n",
        "\n",
        "# Applying lemmatization to the cleaned text\n",
        "# Assuming you have defined the cleaning function and lemmatization process\n",
        "\n",
        "# Apply the cleaning function to the 'text' column\n",
        "df['text_cleaned'] = df['text'].apply(cleaning)\n",
        "\n",
        "# Apply lemmatization to the 'text_cleaned' column\n",
        "df['text_cleaned'] = df['text_cleaned'].apply(do_lemma)\n",
        "\n",
        "\n",
        "# Renaming columns\n",
        "df = df.drop(['text'], axis=1)\n",
        "df = df.rename(columns={'text_cleaned': 'text'})\n",
        "\n",
        "# Defining 'y'\n",
        "y = df['label']\n",
        "\n",
        "# Vectorizing text data\n",
        "tfidf = TfidfVectorizer()\n",
        "X = tfidf.fit_transform(df['text'])\n",
        "\n",
        "# Splitting the data into training and testing sets\n",
        "X_train, X_test, y_train, y_test = train_test_split(X, y, test_size=0.2, random_state=42)\n",
        "\n",
        "# Defining the classifier\n",
        "clf = KNeighborsClassifier(n_neighbors=5, metric='euclidean')\n",
        "\n",
        "# Training the classifier and measuring the time\n",
        "t0 = time()\n",
        "clf.fit(X_train, y_train)\n",
        "print(\"\\nTraining time:\", round(time()-t0, 3), \"s\\n\")\n",
        "\n",
        "# Predicting on the test set and measuring the time\n",
        "t1 = time()\n",
        "pred = clf.predict(X_test)\n",
        "print(\"Predicting time:\", round(time()-t1, 3), \"s\\n\")\n",
        "\n",
        "# Calculating and printing the accuracy of the algorithm\n",
        "print(\"Accuracy of KNN Algorithm: \", accuracy_score(pred, y_test))\n"
      ],
      "metadata": {
        "colab": {
          "base_uri": "https://localhost:8080/"
        },
        "id": "u3RxUMkFarWT",
        "outputId": "d4bdf3b7-a190-4494-d8ed-da9d1bd4bbf8"
      },
      "execution_count": 19,
      "outputs": [
        {
          "output_type": "stream",
          "name": "stdout",
          "text": [
            "\n",
            "Training time: 0.006 s\n",
            "\n",
            "Predicting time: 16.727 s\n",
            "\n",
            "Accuracy of KNN Algorithm:  0.961352657004831\n"
          ]
        }
      ]
    }
  ]
}